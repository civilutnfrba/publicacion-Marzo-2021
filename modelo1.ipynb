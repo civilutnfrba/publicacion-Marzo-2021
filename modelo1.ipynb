{
 "cells": [
  {
   "cell_type": "markdown",
   "metadata": {},
   "source": [
    "# Modelo 1\n",
    "\n",
    "Aqui se confecciona la red neuronal del modelo 1 que clasifica al pilote en condicion de daño leve y daño severo."
   ]
  },
  {
   "cell_type": "code",
   "execution_count": 2,
   "metadata": {},
   "outputs": [],
   "source": [
    "import tensorflow as tf\n",
    "from tensorflow import keras\n",
    "from keras.layers import Dense\n",
    "from keras import Sequential\n",
    "\n",
    "import pandas as pd\n",
    "import numpy as np\n",
    "\n",
    "from variables import plot_up"
   ]
  },
  {
   "cell_type": "code",
   "execution_count": 2,
   "metadata": {},
   "outputs": [],
   "source": [
    "X = pd.read_csv(\"dataset/df_input_norm.csv\")\n",
    "y = pd.read_csv(\"dataset/df_output_norm.csv\").iloc[:,1]"
   ]
  },
  {
   "cell_type": "code",
   "execution_count": 3,
   "metadata": {},
   "outputs": [],
   "source": [
    "from sklearn.model_selection import train_test_split\n",
    "\n",
    "X_train_0, X_test, y_train_0, y_test = train_test_split(X, y, test_size=0.20, random_state=42)"
   ]
  },
  {
   "cell_type": "code",
   "execution_count": 4,
   "metadata": {},
   "outputs": [],
   "source": [
    "X_train, X_val, y_train, y_val = train_test_split(X_train_0, y_train_0, test_size=0.20, random_state=42)"
   ]
  },
  {
   "cell_type": "code",
   "execution_count": 5,
   "metadata": {},
   "outputs": [],
   "source": [
    "from sklearn.preprocessing import MinMaxScaler\n",
    "\n",
    "scaler = MinMaxScaler()\n",
    "\n",
    "X_train_scaled = scaler.fit_transform(X_train)\n",
    "X_val_scaled = scaler.transform(X_val)\n",
    "X_test_scaled = scaler.transform(X_test)"
   ]
  },
  {
   "cell_type": "code",
   "execution_count": 6,
   "metadata": {},
   "outputs": [],
   "source": [
    "model = Sequential()\n",
    "model.add(Dense(2, activation = \"relu\", input_dim = 2))\n",
    "model.add(Dense(4, activation = \"relu\"))\n",
    "model.add(Dense(8, activation = \"relu\"))\n",
    "model.add(Dense(4, activation=\"sigmoid\"))\n",
    "model.add(Dense(units = 1))"
   ]
  },
  {
   "cell_type": "code",
   "execution_count": 7,
   "metadata": {},
   "outputs": [],
   "source": [
    "model.compile(optimizer = 'adam', loss = 'binary_crossentropy', metrics=[\"accuracy\"])"
   ]
  },
  {
   "cell_type": "code",
   "execution_count": 8,
   "metadata": {},
   "outputs": [
    {
     "name": "stdout",
     "output_type": "stream",
     "text": [
      "WARNING:tensorflow:From C:\\Users\\USUARIO\\anaconda3\\envs\\Puente\\lib\\site-packages\\tensorflow\\python\\ops\\math_grad.py:1250: add_dispatch_support.<locals>.wrapper (from tensorflow.python.ops.array_ops) is deprecated and will be removed in a future version.\n",
      "Instructions for updating:\n",
      "Use tf.where in 2.0, which has the same broadcast rule as np.where\n",
      "WARNING:tensorflow:From C:\\Users\\USUARIO\\anaconda3\\envs\\Puente\\lib\\site-packages\\keras\\backend\\tensorflow_backend.py:422: The name tf.global_variables is deprecated. Please use tf.compat.v1.global_variables instead.\n",
      "\n",
      "Train on 555 samples, validate on 139 samples\n",
      "Epoch 1/25\n",
      "555/555 [==============================] - 0s 731us/step - loss: 0.9111 - accuracy: 0.4126 - val_loss: 0.6682 - val_accuracy: 0.6043\n",
      "Epoch 2/25\n",
      "555/555 [==============================] - 0s 227us/step - loss: 0.6510 - accuracy: 0.6144 - val_loss: 0.5789 - val_accuracy: 0.6835\n",
      "Epoch 3/25\n",
      "555/555 [==============================] - 0s 241us/step - loss: 0.5959 - accuracy: 0.6360 - val_loss: 0.5588 - val_accuracy: 0.6835\n",
      "Epoch 4/25\n",
      "555/555 [==============================] - 0s 243us/step - loss: 0.5775 - accuracy: 0.6360 - val_loss: 0.5415 - val_accuracy: 0.6835\n",
      "Epoch 5/25\n",
      "555/555 [==============================] - 0s 263us/step - loss: 0.5648 - accuracy: 0.6360 - val_loss: 0.5332 - val_accuracy: 0.6835\n",
      "Epoch 6/25\n",
      "555/555 [==============================] - 0s 240us/step - loss: 0.5557 - accuracy: 0.6360 - val_loss: 0.5238 - val_accuracy: 0.6835\n",
      "Epoch 7/25\n",
      "555/555 [==============================] - 0s 232us/step - loss: 0.5460 - accuracy: 0.6360 - val_loss: 0.5178 - val_accuracy: 0.6835\n",
      "Epoch 8/25\n",
      "555/555 [==============================] - 0s 229us/step - loss: 0.5379 - accuracy: 0.6360 - val_loss: 0.5110 - val_accuracy: 0.6835\n",
      "Epoch 9/25\n",
      "555/555 [==============================] - 0s 194us/step - loss: 0.5328 - accuracy: 0.6360 - val_loss: 0.5063 - val_accuracy: 0.6835\n",
      "Epoch 10/25\n",
      "555/555 [==============================] - 0s 191us/step - loss: 0.5246 - accuracy: 0.6360 - val_loss: 0.5057 - val_accuracy: 0.6835\n",
      "Epoch 11/25\n",
      "555/555 [==============================] - 0s 196us/step - loss: 0.5181 - accuracy: 0.6360 - val_loss: 0.4951 - val_accuracy: 0.6835\n",
      "Epoch 12/25\n",
      "555/555 [==============================] - 0s 176us/step - loss: 0.5109 - accuracy: 0.6613 - val_loss: 0.4873 - val_accuracy: 0.6835\n",
      "Epoch 13/25\n",
      "555/555 [==============================] - 0s 175us/step - loss: 0.5044 - accuracy: 0.6559 - val_loss: 0.4817 - val_accuracy: 0.6835\n",
      "Epoch 14/25\n",
      "555/555 [==============================] - 0s 184us/step - loss: 0.4969 - accuracy: 0.6793 - val_loss: 0.4752 - val_accuracy: 0.7482\n",
      "Epoch 15/25\n",
      "555/555 [==============================] - 0s 198us/step - loss: 0.4893 - accuracy: 0.6955 - val_loss: 0.4689 - val_accuracy: 0.7194\n",
      "Epoch 16/25\n",
      "555/555 [==============================] - 0s 194us/step - loss: 0.4799 - accuracy: 0.7153 - val_loss: 0.4623 - val_accuracy: 0.7194\n",
      "Epoch 17/25\n",
      "555/555 [==============================] - 0s 196us/step - loss: 0.4723 - accuracy: 0.7171 - val_loss: 0.4531 - val_accuracy: 0.7194\n",
      "Epoch 18/25\n",
      "555/555 [==============================] - 0s 176us/step - loss: 0.4617 - accuracy: 0.7279 - val_loss: 0.4493 - val_accuracy: 0.7410\n",
      "Epoch 19/25\n",
      "555/555 [==============================] - 0s 191us/step - loss: 0.4516 - accuracy: 0.7351 - val_loss: 0.4429 - val_accuracy: 0.8345\n",
      "Epoch 20/25\n",
      "555/555 [==============================] - 0s 234us/step - loss: 0.4417 - accuracy: 0.8288 - val_loss: 0.4264 - val_accuracy: 0.7266\n",
      "Epoch 21/25\n",
      "555/555 [==============================] - 0s 301us/step - loss: 0.4299 - accuracy: 0.8072 - val_loss: 0.4168 - val_accuracy: 0.7986\n",
      "Epoch 22/25\n",
      "555/555 [==============================] - 0s 240us/step - loss: 0.4192 - accuracy: 0.8342 - val_loss: 0.4119 - val_accuracy: 0.7986\n",
      "Epoch 23/25\n",
      "555/555 [==============================] - 0s 292us/step - loss: 0.4062 - accuracy: 0.8360 - val_loss: 0.3953 - val_accuracy: 0.8345\n",
      "Epoch 24/25\n",
      "555/555 [==============================] - 0s 371us/step - loss: 0.3954 - accuracy: 0.8559 - val_loss: 0.3870 - val_accuracy: 0.8345\n",
      "Epoch 25/25\n",
      "555/555 [==============================] - 0s 288us/step - loss: 0.3839 - accuracy: 0.8324 - val_loss: 0.3819 - val_accuracy: 0.7842\n"
     ]
    }
   ],
   "source": [
    "history = model.fit(X_train, y_train, batch_size = 8, epochs = 25, validation_data=(X_val,y_val))"
   ]
  },
  {
   "cell_type": "code",
   "execution_count": 9,
   "metadata": {},
   "outputs": [
    {
     "data": {
      "image/png": "[encoded data removed]",
      "text/plain": [
       "<Figure size 720x720 with 1 Axes>"
      ]
     },
     "metadata": {
      "needs_background": "light"
     },
     "output_type": "display_data"
    }
   ],
   "source": [
    "import matplotlib.pyplot as plt\n",
    "\n",
    "loss = history.history[\"loss\"]\n",
    "val_loss = history.history[\"val_loss\"]\n",
    "\n",
    "plt.figure(figsize=(10,10))\n",
    "epocas = range(0,25)\n",
    "plt.plot(epocas,loss , 'r-', c=\"g\", label='Train Loss')\n",
    "plt.plot(epocas,val_loss , 'r-', c=\"r\", label='Val Loss')\n",
    "plt.title('Graph Loss vs. Epochs', size=20)\n",
    "plt.xlabel('Epochs', size=20)\n",
    "plt.ylabel('Loss',size=20)\n",
    "plt.legend( prop={'size': 20})\n",
    "plt.show()"
   ]
  },
  {
   "cell_type": "code",
   "execution_count": 10,
   "metadata": {},
   "outputs": [
    {
     "name": "stdout",
     "output_type": "stream",
     "text": [
      "174/174 [==============================] - 0s 69us/step\n"
     ]
    },
    {
     "data": {
      "text/plain": [
       "[0.4613586701880926, 0.8045976758003235]"
      ]
     },
     "execution_count": 10,
     "metadata": {},
     "output_type": "execute_result"
    }
   ],
   "source": [
    "model.evaluate(X_test, y_test)"
   ]
  },
  {
   "cell_type": "code",
   "execution_count": 11,
   "metadata": {},
   "outputs": [],
   "source": [
    "model.save('modelo_nn1_v1.h5')"
   ]
  },
  {
   "cell_type": "code",
   "execution_count": null,
   "metadata": {},
   "outputs": [],
   "source": []
  }
 ],
 "metadata": {
  "kernelspec": {
   "display_name": "Python 3",
   "language": "python",
   "name": "python3"
  },
  "language_info": {
   "codemirror_mode": {
    "name": "ipython",
    "version": 3
   },
   "file_extension": ".py",
   "mimetype": "text/x-python",
   "name": "python",
   "nbconvert_exporter": "python",
   "pygments_lexer": "ipython3",
   "version": "3.7.7"
  }
 },
 "nbformat": 4,
 "nbformat_minor": 4
}
